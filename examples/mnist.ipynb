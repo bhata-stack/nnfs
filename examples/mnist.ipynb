{
 "cells": [
  {
   "cell_type": "code",
   "execution_count": 1,
   "id": "7e2f2919",
   "metadata": {},
   "outputs": [
    {
     "name": "stdout",
     "output_type": "stream",
     "text": [
      "The autoreload extension is already loaded. To reload it, use:\n",
      "  %reload_ext autoreload\n"
     ]
    }
   ],
   "source": [
    "import numpy as np\n",
    "import matplotlib.pyplot as plt\n",
    "\n",
    "from nnfs.models import BaseModel\n",
    "from nnfs.layers import LinearLayer\n",
    "from nnfs.funcs import CrossEntropy\n",
    "from nnfs.optimizers import SGD\n",
    "\n",
    "%load_ext autoreload\n",
    "%autoreload 2"
   ]
  },
  {
   "cell_type": "markdown",
   "id": "4548735a",
   "metadata": {},
   "source": [
    "The classic example used for basic machine learning models is the MNIST dataset, which contains about 60,000 training examples of handwritten digits, with the goal of classifying the digit from the image. To note, the data used in this example is not included in the repository, but it is available [here](https://drive.google.com/file/d/11ZiNnV3YtpZ7d9afHZg0rtDRrmhha-1E/view). To run this next code block, place the data in `examples/data/mnist/` with the appropriate filenames.\n",
    "\n",
    "The model will consider the vectorized form, that is, treating the 28x28 images as vectors of length 784 instead. As such, no convolutions will be required, but it will also lose access to any information gained from the 2D nature of the images."
   ]
  },
  {
   "cell_type": "code",
   "execution_count": 2,
   "id": "a6738373",
   "metadata": {},
   "outputs": [
    {
     "data": {
      "image/png": "[encoded data removed]",
      "text/plain": [
       "<Figure size 1200x300 with 4 Axes>"
      ]
     },
     "metadata": {},
     "output_type": "display_data"
    },
    {
     "name": "stdout",
     "output_type": "stream",
     "text": [
      "[6 3 8 9]\n"
     ]
    }
   ],
   "source": [
    "# Load datasets into numpy arrays\n",
    "with open(\"data/mnist/train-images.idx3-ubyte\", \"rb\") as file:\n",
    "    train_image = np.frombuffer(file.read(), np.uint8, offset=16).reshape(-1, 28 * 28)\n",
    "with open(\"data/mnist/t10k-images.idx3-ubyte\", \"rb\") as file:\n",
    "    test_image = np.frombuffer(file.read(), np.uint8, offset=16).reshape(-1, 28 * 28)\n",
    "\n",
    "with open(\"data/mnist/train-labels.idx1-ubyte\", \"rb\") as file:\n",
    "    train_labels = np.frombuffer(file.read(), np.uint8, offset=8)\n",
    "with open(\"data/mnist/t10k-labels.idx1-ubyte\", \"rb\") as file:\n",
    "    test_labels = np.frombuffer(file.read(), np.uint8, offset=8)\n",
    "\n",
    "\n",
    "def draw_mnist_num(arr):\n",
    "    \"\"\"Helper function to draw MNIST numbers\"\"\"\n",
    "    # Number of graphs\n",
    "    nums = arr.shape[0]\n",
    "\n",
    "    # Loop and graph\n",
    "    fig, axes = plt.subplots(1, nums)\n",
    "    for i in range(nums):\n",
    "        axes[i].imshow(arr[i].reshape(28, 28), cmap=\"gray\")\n",
    "    fig.set_size_inches(3 * nums, 3)\n",
    "    plt.show()\n",
    "\n",
    "# Confirm images and labels are aligned\n",
    "rand_inds = np.random.choice(train_image.shape[0], 4, replace = False)\n",
    "draw_mnist_num(train_image[rand_inds])\n",
    "print(train_labels[rand_inds])\n",
    "\n",
    "# Adjust labels to correspond to class output\n",
    "train_label_arr = np.zeros((train_labels.shape[0], 10), dtype=int)\n",
    "train_label_arr[np.arange(train_labels.shape[0]), train_labels] = 1\n",
    "test_label_arr = np.zeros((test_labels.shape[0], 10), dtype=int)\n",
    "test_label_arr[np.arange(test_labels.shape[0]), test_labels] = 1\n",
    "\n",
    "# Convert from (0, 255) to (0, 1) range\n",
    "train_image = train_image.copy() / 256\n",
    "test_image = test_image.copy() / 256"
   ]
  },
  {
   "cell_type": "markdown",
   "id": "35aee7be",
   "metadata": {},
   "source": [
    "The example model is a two layer model, using 128 nodes in the first layer, and 10 nodes for the output layer. This is small enough (0.4 MB) to easily fit on any computer and can be trained without the use of a GPU. That being said, a more complex model (i.e, more layers or more parameters) will be more accurate but will require more time or processing power to train."
   ]
  },
  {
   "cell_type": "code",
   "execution_count": 3,
   "id": "bb0a7fe2",
   "metadata": {},
   "outputs": [
    {
     "name": "stdout",
     "output_type": "stream",
     "text": [
      "Initialized model with 101770 parameters (0.4 MB).\n",
      "Start of Epoch 1:\n"
     ]
    },
    {
     "name": "stderr",
     "output_type": "stream",
     "text": [
      "100%|██████████| 937/937 [00:32<00:00, 28.95it/s] \n"
     ]
    },
    {
     "name": "stdout",
     "output_type": "stream",
     "text": [
      "Average loss at epoch 1: 8.70117\n",
      "Start of Epoch 2:\n"
     ]
    },
    {
     "name": "stderr",
     "output_type": "stream",
     "text": [
      "100%|██████████| 937/937 [00:36<00:00, 26.00it/s] \n"
     ]
    },
    {
     "name": "stdout",
     "output_type": "stream",
     "text": [
      "Average loss at epoch 2: 7.22876\n",
      "Start of Epoch 3:\n"
     ]
    },
    {
     "name": "stderr",
     "output_type": "stream",
     "text": [
      "100%|██████████| 937/937 [00:34<00:00, 26.94it/s] \n"
     ]
    },
    {
     "name": "stdout",
     "output_type": "stream",
     "text": [
      "Average loss at epoch 3: 7.14662\n",
      "Start of Epoch 4:\n"
     ]
    },
    {
     "name": "stderr",
     "output_type": "stream",
     "text": [
      "100%|██████████| 937/937 [00:33<00:00, 27.73it/s] \n"
     ]
    },
    {
     "name": "stdout",
     "output_type": "stream",
     "text": [
      "Average loss at epoch 4: 6.53114\n",
      "Start of Epoch 5:\n"
     ]
    },
    {
     "name": "stderr",
     "output_type": "stream",
     "text": [
      "100%|██████████| 937/937 [00:35<00:00, 26.44it/s] \n"
     ]
    },
    {
     "name": "stdout",
     "output_type": "stream",
     "text": [
      "Average loss at epoch 5: 5.71959\n",
      "Start of Epoch 6:\n"
     ]
    },
    {
     "name": "stderr",
     "output_type": "stream",
     "text": [
      "100%|██████████| 937/937 [00:35<00:00, 26.09it/s] \n"
     ]
    },
    {
     "name": "stdout",
     "output_type": "stream",
     "text": [
      "Average loss at epoch 6: 5.70459\n",
      "Start of Epoch 7:\n"
     ]
    },
    {
     "name": "stderr",
     "output_type": "stream",
     "text": [
      "100%|██████████| 937/937 [00:37<00:00, 24.71it/s] \n"
     ]
    },
    {
     "name": "stdout",
     "output_type": "stream",
     "text": [
      "Average loss at epoch 7: 5.72728\n",
      "Start of Epoch 8:\n"
     ]
    },
    {
     "name": "stderr",
     "output_type": "stream",
     "text": [
      "100%|██████████| 937/937 [00:36<00:00, 25.37it/s]\n"
     ]
    },
    {
     "name": "stdout",
     "output_type": "stream",
     "text": [
      "Average loss at epoch 8: 5.73929\n",
      "Start of Epoch 9:\n"
     ]
    },
    {
     "name": "stderr",
     "output_type": "stream",
     "text": [
      "100%|██████████| 937/937 [00:40<00:00, 23.25it/s]\n"
     ]
    },
    {
     "name": "stdout",
     "output_type": "stream",
     "text": [
      "Average loss at epoch 9: 5.68219\n",
      "Start of Epoch 10:\n"
     ]
    },
    {
     "name": "stderr",
     "output_type": "stream",
     "text": [
      "100%|██████████| 937/937 [00:36<00:00, 25.73it/s] \n"
     ]
    },
    {
     "name": "stdout",
     "output_type": "stream",
     "text": [
      "Average loss at epoch 10: 5.71883\n",
      "Start of Epoch 11:\n"
     ]
    },
    {
     "name": "stderr",
     "output_type": "stream",
     "text": [
      "100%|██████████| 937/937 [00:35<00:00, 26.76it/s] \n"
     ]
    },
    {
     "name": "stdout",
     "output_type": "stream",
     "text": [
      "Average loss at epoch 11: 5.76691\n",
      "Start of Epoch 12:\n"
     ]
    },
    {
     "name": "stderr",
     "output_type": "stream",
     "text": [
      "100%|██████████| 937/937 [00:35<00:00, 26.59it/s] \n"
     ]
    },
    {
     "name": "stdout",
     "output_type": "stream",
     "text": [
      "Average loss at epoch 12: 5.76627\n",
      "Start of Epoch 13:\n"
     ]
    },
    {
     "name": "stderr",
     "output_type": "stream",
     "text": [
      "100%|██████████| 937/937 [00:35<00:00, 26.26it/s]\n"
     ]
    },
    {
     "name": "stdout",
     "output_type": "stream",
     "text": [
      "Average loss at epoch 13: 5.75877\n",
      "Start of Epoch 14:\n"
     ]
    },
    {
     "name": "stderr",
     "output_type": "stream",
     "text": [
      "100%|██████████| 937/937 [00:36<00:00, 25.92it/s] \n"
     ]
    },
    {
     "name": "stdout",
     "output_type": "stream",
     "text": [
      "Average loss at epoch 14: 5.72261\n",
      "Start of Epoch 15:\n"
     ]
    },
    {
     "name": "stderr",
     "output_type": "stream",
     "text": [
      "100%|██████████| 937/937 [00:34<00:00, 27.02it/s] \n"
     ]
    },
    {
     "name": "stdout",
     "output_type": "stream",
     "text": [
      "Average loss at epoch 15: 5.70959\n",
      "Start of Epoch 16:\n"
     ]
    },
    {
     "name": "stderr",
     "output_type": "stream",
     "text": [
      "100%|██████████| 937/937 [00:33<00:00, 27.65it/s] \n"
     ]
    },
    {
     "name": "stdout",
     "output_type": "stream",
     "text": [
      "Average loss at epoch 16: 5.65395\n",
      "Start of Epoch 17:\n"
     ]
    },
    {
     "name": "stderr",
     "output_type": "stream",
     "text": [
      "100%|██████████| 937/937 [00:34<00:00, 27.27it/s] \n"
     ]
    },
    {
     "name": "stdout",
     "output_type": "stream",
     "text": [
      "Average loss at epoch 17: 5.68207\n",
      "Start of Epoch 18:\n"
     ]
    },
    {
     "name": "stderr",
     "output_type": "stream",
     "text": [
      "100%|██████████| 937/937 [00:34<00:00, 27.55it/s] \n"
     ]
    },
    {
     "name": "stdout",
     "output_type": "stream",
     "text": [
      "Average loss at epoch 18: 5.64881\n",
      "Start of Epoch 19:\n"
     ]
    },
    {
     "name": "stderr",
     "output_type": "stream",
     "text": [
      "100%|██████████| 937/937 [00:36<00:00, 25.41it/s]\n"
     ]
    },
    {
     "name": "stdout",
     "output_type": "stream",
     "text": [
      "Average loss at epoch 19: 5.63040\n",
      "Start of Epoch 20:\n"
     ]
    },
    {
     "name": "stderr",
     "output_type": "stream",
     "text": [
      "100%|██████████| 937/937 [00:34<00:00, 27.01it/s] \n"
     ]
    },
    {
     "name": "stdout",
     "output_type": "stream",
     "text": [
      "Average loss at epoch 20: 5.63526\n",
      "Training took  0h 12m 54s.\n"
     ]
    }
   ],
   "source": [
    "# Set up model with two layers\n",
    "layers = [\n",
    "    LinearLayer((784), (128)),\n",
    "    LinearLayer((128), (10))\n",
    "]\n",
    "\n",
    "# Train model\n",
    "model = BaseModel(layers, optimizer = SGD(learning_rate = 3.0))\n",
    "model.train(\n",
    "    [train_image, train_label_arr],\n",
    "    [test_image, test_label_arr],\n",
    "    CrossEntropy(),\n",
    "    batch_size = 64,\n",
    "    epochs = 20,\n",
    "    full_test = True\n",
    ")"
   ]
  },
  {
   "cell_type": "code",
   "execution_count": 5,
   "id": "e6ceba8f",
   "metadata": {},
   "outputs": [
    {
     "data": {
      "image/png": "[encoded data removed]",
      "text/plain": [
       "<Figure size 1200x300 with 4 Axes>"
      ]
     },
     "metadata": {},
     "output_type": "display_data"
    },
    {
     "name": "stdout",
     "output_type": "stream",
     "text": [
      "Model Guess: [5 0 4 2]\n",
      "Actual Values: [5 0 4 2]\n",
      "The model accuracy over the entire test set is 68.03%.\n"
     ]
    }
   ],
   "source": [
    "# Check if model can accurately label images\n",
    "rand_inds = np.random.choice(train_image.shape[0], 4, replace = False)\n",
    "draw_mnist_num(train_image[rand_inds])\n",
    "model_guess = np.argmax(model.forward(train_image[rand_inds]), axis=1)\n",
    "actual_val = train_labels[rand_inds]\n",
    "print(f\"Model Guess: {model_guess}\")\n",
    "print(f\"Actual Values: {actual_val}\")\n",
    "\n",
    "# Find percent accuracy over entire test set\n",
    "test_vals = model.forward(test_image)\n",
    "test_accuracy = np.count_nonzero(np.argmax(test_vals, axis=1) == test_labels) / test_image.shape[0]\n",
    "print(f\"The model accuracy over the entire test set is {100 * test_accuracy:.2f}%.\")"
   ]
  },
  {
   "cell_type": "markdown",
   "id": "53ff92bf",
   "metadata": {},
   "source": [
    "As shown, the model doesn't have a great accuracy, but for the simplicity and training time, 68% accuracy is quite good. More training time or model complexity would likely increase the accuracy."
   ]
  }
 ],
 "metadata": {
  "kernelspec": {
   "display_name": "Python 3",
   "language": "python",
   "name": "python3"
  },
  "language_info": {
   "codemirror_mode": {
    "name": "ipython",
    "version": 3
   },
   "file_extension": ".py",
   "mimetype": "text/x-python",
   "name": "python",
   "nbconvert_exporter": "python",
   "pygments_lexer": "ipython3",
   "version": "3.12.11"
  }
 },
 "nbformat": 4,
 "nbformat_minor": 5
}
