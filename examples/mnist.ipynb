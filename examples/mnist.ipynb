{
 "cells": [
  {
   "cell_type": "code",
   "execution_count": 1,
   "id": "7e2f2919",
   "metadata": {},
   "outputs": [
    {
     "name": "stdout",
     "output_type": "stream",
     "text": [
      "The autoreload extension is already loaded. To reload it, use:\n",
      "  %reload_ext autoreload\n"
     ]
    }
   ],
   "source": [
    "import numpy as np\n",
    "import matplotlib.pyplot as plt\n",
    "\n",
    "from nnfs.models import BaseModel\n",
    "from nnfs.layers import LinearLayer\n",
    "\n",
    "%load_ext autoreload\n",
    "%autoreload 2"
   ]
  },
  {
   "cell_type": "markdown",
   "id": "4548735a",
   "metadata": {},
   "source": [
    "The classic example used for basic machine learning models is the MNIST dataset, which contains about 60,000 training examples of handwritten digits, with the goal of classifying the digit from the image. For this example, we will consider the vectorized form, that is, treating the 28x28 images as vectors of length 784 instead. As such, no convolutions will be required. \n",
    "The example model is a two layer model, using 800 nodes in the first layer and 10 nodes in the second. "
   ]
  },
  {
   "cell_type": "code",
   "execution_count": null,
   "id": "a6738373",
   "metadata": {},
   "outputs": [
    {
     "data": {
      "image/png": "[encoded data removed]",
      "text/plain": [
       "<Figure size 1200x300 with 4 Axes>"
      ]
     },
     "metadata": {},
     "output_type": "display_data"
    },
    {
     "name": "stdout",
     "output_type": "stream",
     "text": [
      "[8 3 3 6]\n"
     ]
    }
   ],
   "source": [
    "# Load datasets into numpy arrays\n",
    "with open(\"data/train-images.idx3-ubyte\", \"rb\") as file:\n",
    "    train_image = np.frombuffer(file.read(), np.uint8, offset=16).reshape(-1, 28 * 28)\n",
    "with open(\"data/t10k-images.idx3-ubyte\", \"rb\") as file:\n",
    "    test_image = np.frombuffer(file.read(), np.uint8, offset=16).reshape(-1, 28 * 28)\n",
    "\n",
    "with open(\"data/train-labels.idx1-ubyte\", \"rb\") as file:\n",
    "    train_labels = np.frombuffer(file.read(), np.uint8, offset=8)\n",
    "with open(\"data/t10k-labels.idx1-ubyte\", \"rb\") as file:\n",
    "    test_labels = np.frombuffer(file.read(), np.uint8, offset=8)\n",
    "\n",
    "\n",
    "def draw_mnist_num(arr):\n",
    "    \"\"\"Helper function to draw MNIST numbers\"\"\"\n",
    "    # Number of graphs\n",
    "    nums = arr.shape[0]\n",
    "\n",
    "    # Loop and graph\n",
    "    fig, axes = plt.subplots(1, nums)\n",
    "    for i in range(nums):\n",
    "        axes[i].imshow(arr[i].reshape(28, 28), cmap=\"gray\")\n",
    "    fig.set_size_inches(3 * nums, 3)\n",
    "    plt.show()\n",
    "\n",
    "# Confirm images and labels are aligned\n",
    "rand_inds = np.random.choice(train_image.shape[0], 4, replace = False)\n",
    "draw_mnist_num(train_image[rand_inds])\n",
    "print(train_labels[rand_inds])\n",
    "\n",
    "# Adjust labels to correspond to class output\n",
    "train_label_arr = np.zeros((train_labels.shape[0], 10), dtype=int)\n",
    "train_label_arr[train_labels - 1] = 1\n",
    "test_label_arr = np.zeros((test_labels.shape[0], 10), dtype=int)\n",
    "test_label_arr[test_labels - 1] = 1\n",
    "\n",
    "# Convert from (0, 255) to (0, 1) range\n",
    "train_image = train_image.copy() / 256\n",
    "test_image = test_image.copy() / 256"
   ]
  },
  {
   "cell_type": "code",
   "execution_count": 3,
   "id": "bb0a7fe2",
   "metadata": {},
   "outputs": [
    {
     "name": "stdout",
     "output_type": "stream",
     "text": [
      "Start of Epoch 1:\n"
     ]
    },
    {
     "name": "stderr",
     "output_type": "stream",
     "text": [
      "100%|██████████| 937/937 [02:29<00:00,  6.28it/s]\n"
     ]
    },
    {
     "name": "stdout",
     "output_type": "stream",
     "text": [
      "Average loss at epoch 1: 0.00000\n",
      "Start of Epoch 2:\n"
     ]
    },
    {
     "name": "stderr",
     "output_type": "stream",
     "text": [
      "100%|██████████| 937/937 [02:31<00:00,  6.18it/s]\n"
     ]
    },
    {
     "name": "stdout",
     "output_type": "stream",
     "text": [
      "Average loss at epoch 2: 0.00000\n",
      "Start of Epoch 3:\n"
     ]
    },
    {
     "name": "stderr",
     "output_type": "stream",
     "text": [
      "100%|██████████| 937/937 [02:30<00:00,  6.21it/s]\n"
     ]
    },
    {
     "name": "stdout",
     "output_type": "stream",
     "text": [
      "Average loss at epoch 3: 0.00000\n",
      "Start of Epoch 4:\n"
     ]
    },
    {
     "name": "stderr",
     "output_type": "stream",
     "text": [
      "100%|██████████| 937/937 [02:29<00:00,  6.28it/s]\n"
     ]
    },
    {
     "name": "stdout",
     "output_type": "stream",
     "text": [
      "Average loss at epoch 4: 0.00000\n",
      "Start of Epoch 5:\n"
     ]
    },
    {
     "name": "stderr",
     "output_type": "stream",
     "text": [
      "100%|██████████| 937/937 [02:32<00:00,  6.16it/s]\n"
     ]
    },
    {
     "name": "stdout",
     "output_type": "stream",
     "text": [
      "Average loss at epoch 5: 0.00000\n"
     ]
    },
    {
     "ename": "ValueError",
     "evalue": "Unknown format code 'i' for object of type 'float'",
     "output_type": "error",
     "traceback": [
      "\u001b[31m---------------------------------------------------------------------------\u001b[39m",
      "\u001b[31mValueError\u001b[39m                                Traceback (most recent call last)",
      "\u001b[36mCell\u001b[39m\u001b[36m \u001b[39m\u001b[32mIn[3]\u001b[39m\u001b[32m, line 9\u001b[39m\n\u001b[32m      7\u001b[39m \u001b[38;5;66;03m# Train model\u001b[39;00m\n\u001b[32m      8\u001b[39m model = BaseModel(layers, \u001b[38;5;28;01mlambda\u001b[39;00m x: x)\n\u001b[32m----> \u001b[39m\u001b[32m9\u001b[39m \u001b[43mmodel\u001b[49m\u001b[43m.\u001b[49m\u001b[43mtrain\u001b[49m\u001b[43m(\u001b[49m\u001b[43m[\u001b[49m\u001b[43mtrain_image\u001b[49m\u001b[43m,\u001b[49m\u001b[43m \u001b[49m\u001b[43mtrain_label_arr\u001b[49m\u001b[43m]\u001b[49m\u001b[43m,\u001b[49m\u001b[43m \u001b[49m\u001b[43m[\u001b[49m\u001b[43mtest_image\u001b[49m\u001b[43m,\u001b[49m\u001b[43m \u001b[49m\u001b[43mtest_label_arr\u001b[49m\u001b[43m]\u001b[49m\u001b[43m,\u001b[49m\u001b[43m \u001b[49m\u001b[43mbatch_size\u001b[49m\u001b[43m \u001b[49m\u001b[43m=\u001b[49m\u001b[43m \u001b[49m\u001b[32;43m64\u001b[39;49m\u001b[43m,\u001b[49m\u001b[43m \u001b[49m\u001b[43mepochs\u001b[49m\u001b[43m \u001b[49m\u001b[43m=\u001b[49m\u001b[43m \u001b[49m\u001b[32;43m5\u001b[39;49m\u001b[43m)\u001b[49m\n",
      "\u001b[36mFile \u001b[39m\u001b[32m~/data/projects/ml/nnfs/src/nnfs/models.py:100\u001b[39m, in \u001b[36mBaseModel.train\u001b[39m\u001b[34m(self, training_data, testing_data, batch_size, epochs, loss_fn, optimizer)\u001b[39m\n\u001b[32m     98\u001b[39m minute = (time_taken % \u001b[32m3600\u001b[39m) // \u001b[32m60\u001b[39m\n\u001b[32m     99\u001b[39m second = time_taken % \u001b[32m60\u001b[39m\n\u001b[32m--> \u001b[39m\u001b[32m100\u001b[39m \u001b[38;5;28mprint\u001b[39m(\u001b[33mf\u001b[39m\u001b[33m\"\u001b[39m\u001b[33mTraining took \u001b[39m\u001b[38;5;132;43;01m{\u001b[39;49;00m\u001b[43mhour\u001b[49m\u001b[38;5;132;43;01m:\u001b[39;49;00m\u001b[33;43m2i\u001b[39;49m\u001b[38;5;132;43;01m}\u001b[39;49;00m\u001b[33mh \u001b[39m\u001b[38;5;132;01m{\u001b[39;00mminute\u001b[38;5;132;01m:\u001b[39;00m\u001b[33m2i\u001b[39m\u001b[38;5;132;01m}\u001b[39;00m\u001b[33mm \u001b[39m\u001b[38;5;132;01m{\u001b[39;00msecond\u001b[38;5;132;01m:\u001b[39;00m\u001b[33m2i\u001b[39m\u001b[38;5;132;01m}\u001b[39;00m\u001b[33ms.\u001b[39m\u001b[33m\"\u001b[39m)\n",
      "\u001b[31mValueError\u001b[39m: Unknown format code 'i' for object of type 'float'"
     ]
    }
   ],
   "source": [
    "# Set up model with two layers\n",
    "layers = [\n",
    "    LinearLayer((784), (800)),\n",
    "    LinearLayer((800), (10))\n",
    "]\n",
    "\n",
    "# Train model\n",
    "model = BaseModel(layers, lambda x: x)\n",
    "model.train([train_image, train_label_arr], [test_image, test_label_arr], batch_size = 64, epochs = 5)"
   ]
  },
  {
   "cell_type": "code",
   "execution_count": null,
   "id": "e6ceba8f",
   "metadata": {},
   "outputs": [],
   "source": [
    "# Check if model can accurately label images\n",
    "rand_inds = np.random.choice(train_image.shape[0], 4, replace = False)\n",
    "draw_mnist_num(train_image[rand_inds])\n",
    "print(np.argmax(model.forward(train_image[rand_inds]), axis=1))"
   ]
  }
 ],
 "metadata": {
  "kernelspec": {
   "display_name": "Python 3",
   "language": "python",
   "name": "python3"
  },
  "language_info": {
   "codemirror_mode": {
    "name": "ipython",
    "version": 3
   },
   "file_extension": ".py",
   "mimetype": "text/x-python",
   "name": "python",
   "nbconvert_exporter": "python",
   "pygments_lexer": "ipython3",
   "version": "3.12.11"
  }
 },
 "nbformat": 4,
 "nbformat_minor": 5
}
