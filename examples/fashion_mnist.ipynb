{
 "cells": [
  {
   "cell_type": "code",
   "execution_count": 1,
   "id": "7e2f2919",
   "metadata": {},
   "outputs": [
    {
     "name": "stdout",
     "output_type": "stream",
     "text": [
      "The autoreload extension is already loaded. To reload it, use:\n",
      "  %reload_ext autoreload\n"
     ]
    }
   ],
   "source": [
    "import gzip\n",
    "\n",
    "import numpy as np\n",
    "import matplotlib.pyplot as plt\n",
    "\n",
    "from nnfs.models import BaseModel\n",
    "from nnfs.layers import LinearLayer, Conv2DLayer, FlattenLayer\n",
    "from nnfs.funcs import CrossEntropy\n",
    "from nnfs.optimizers import Adam\n",
    "\n",
    "%load_ext autoreload\n",
    "%autoreload 2"
   ]
  },
  {
   "cell_type": "markdown",
   "id": "465e42cf",
   "metadata": {},
   "source": [
    "Fashion MNIST is a more complex version of the classic MNIST dataset, containing images of various articles of clothing with the goal of classifying the type of clothing from the image. The data used in this example is available [here](https://github.com/zalandoresearch/fashion-mnist/tree/master/data/fashion). To run this next code block, place the data in `examples/data/fashion/` with the appropriate filenames.\n",
    "\n",
    "For this example, a convolutional neural network will be used, utilizing the original image file type. In addition, the more robust Adam optimizer will be used during training. "
   ]
  },
  {
   "cell_type": "code",
   "execution_count": 2,
   "id": "a6738373",
   "metadata": {},
   "outputs": [
    {
     "data": {
      "image/png": "[encoded data removed]",
      "text/plain": [
       "<Figure size 1200x300 with 4 Axes>"
      ]
     },
     "metadata": {},
     "output_type": "display_data"
    }
   ],
   "source": [
    "# Load datasets into numpy arrays\n",
    "with gzip.open(\"data/fashion/train-images-idx3-ubyte.gz\", \"rb\") as file:\n",
    "    train_image = np.frombuffer(file.read(), np.uint8, offset=16).reshape(-1, 28, 28)\n",
    "with gzip.open(\"data/fashion/t10k-images-idx3-ubyte.gz\", \"rb\") as file:\n",
    "    test_image = np.frombuffer(file.read(), np.uint8, offset=16).reshape(-1, 28, 28)\n",
    "\n",
    "with gzip.open(\"data/fashion/train-labels-idx1-ubyte.gz\", \"rb\") as file:\n",
    "    train_labels = np.frombuffer(file.read(), np.uint8, offset=8)\n",
    "with gzip.open(\"data/fashion/t10k-labels-idx1-ubyte.gz\", \"rb\") as file:\n",
    "    test_labels = np.frombuffer(file.read(), np.uint8, offset=8)\n",
    "\n",
    "# Convert index into item name\n",
    "fashion_key = {\n",
    "    0: \"T-shirt/top\",\n",
    "    1: \"Pant\",\n",
    "    2: \"Pullover\",\n",
    "    3: \"Dress\",\n",
    "    4: \"Coat\",\n",
    "    5: \"Sandal\",\n",
    "    6: \"Shirt\",\n",
    "    7: \"Sneaker\",\n",
    "    8: \"Bag\",\n",
    "    9: \"Ankle Boot\",\n",
    "}\n",
    "\n",
    "def draw_sample_image(train_image, train_class, output_class = None):\n",
    "    \"\"\"Helper function to draw and label clothing article\"\"\"\n",
    "    # Number of graphs\n",
    "    nums = train_image.shape[0]\n",
    "\n",
    "    # Loop and graph\n",
    "    fig, axes = plt.subplots(1, nums)\n",
    "    for i in range(nums):\n",
    "        axes[i].imshow(train_image[i], cmap=\"gray\")\n",
    "        actual_name = fashion_key[train_class[i]]\n",
    "        title_str = f\"Actual: {actual_name}\"\n",
    "        if output_class is not None:\n",
    "            pred_name = fashion_key[output_class[i]]\n",
    "            title_str += f\"\\nPredicted: {pred_name}\"\n",
    "        axes[i].set_title(title_str)\n",
    "        axes[i].set_axis_off()\n",
    "    fig.set_size_inches(3 * nums, 3)\n",
    "    plt.show()\n",
    "\n",
    "# Confirm images and labels are aligned\n",
    "rand_inds = np.random.choice(train_image.shape[0], 4, replace = False)\n",
    "draw_sample_image(train_image[rand_inds], train_labels[rand_inds])\n",
    "\n",
    "# Adjust labels to correspond to class output\n",
    "train_label_arr = np.zeros((train_labels.shape[0], 10), dtype=int)\n",
    "train_label_arr[np.arange(train_labels.shape[0]), train_labels] = 1\n",
    "test_label_arr = np.zeros((test_labels.shape[0], 10), dtype=int)\n",
    "test_label_arr[np.arange(test_labels.shape[0]), test_labels] = 1\n",
    "\n",
    "# Convert from (0, 255) to (0, 1) range\n",
    "train_image = train_image.copy() / 256\n",
    "test_image = test_image.copy() / 256"
   ]
  },
  {
   "cell_type": "code",
   "execution_count": 3,
   "id": "bb0a7fe2",
   "metadata": {},
   "outputs": [
    {
     "name": "stdout",
     "output_type": "stream",
     "text": [
      "Initialized model with 68719 parameters (268.4 KB).\n",
      "Start of Epoch 1:\n"
     ]
    },
    {
     "name": "stderr",
     "output_type": "stream",
     "text": [
      "100%|██████████| 468/468 [00:27<00:00, 16.72it/s]\n"
     ]
    },
    {
     "name": "stdout",
     "output_type": "stream",
     "text": [
      "Average loss at epoch 1: 1.06148\n",
      "Start of Epoch 2:\n"
     ]
    },
    {
     "name": "stderr",
     "output_type": "stream",
     "text": [
      "100%|██████████| 468/468 [00:23<00:00, 20.07it/s]\n"
     ]
    },
    {
     "name": "stdout",
     "output_type": "stream",
     "text": [
      "Average loss at epoch 2: 0.96782\n",
      "Start of Epoch 3:\n"
     ]
    },
    {
     "name": "stderr",
     "output_type": "stream",
     "text": [
      "100%|██████████| 468/468 [00:26<00:00, 17.62it/s]\n"
     ]
    },
    {
     "name": "stdout",
     "output_type": "stream",
     "text": [
      "Average loss at epoch 3: 0.90989\n",
      "Start of Epoch 4:\n"
     ]
    },
    {
     "name": "stderr",
     "output_type": "stream",
     "text": [
      "100%|██████████| 468/468 [00:27<00:00, 17.21it/s] \n"
     ]
    },
    {
     "name": "stdout",
     "output_type": "stream",
     "text": [
      "Average loss at epoch 4: 0.89685\n",
      "Start of Epoch 5:\n"
     ]
    },
    {
     "name": "stderr",
     "output_type": "stream",
     "text": [
      "100%|██████████| 468/468 [00:23<00:00, 19.66it/s] \n"
     ]
    },
    {
     "name": "stdout",
     "output_type": "stream",
     "text": [
      "Average loss at epoch 5: 0.79862\n",
      "Start of Epoch 6:\n"
     ]
    },
    {
     "name": "stderr",
     "output_type": "stream",
     "text": [
      "100%|██████████| 468/468 [00:21<00:00, 21.43it/s] \n"
     ]
    },
    {
     "name": "stdout",
     "output_type": "stream",
     "text": [
      "Average loss at epoch 6: 0.70618\n",
      "Start of Epoch 7:\n"
     ]
    },
    {
     "name": "stderr",
     "output_type": "stream",
     "text": [
      "100%|██████████| 468/468 [00:20<00:00, 22.54it/s] \n"
     ]
    },
    {
     "name": "stdout",
     "output_type": "stream",
     "text": [
      "Average loss at epoch 7: 0.76326\n",
      "Start of Epoch 8:\n"
     ]
    },
    {
     "name": "stderr",
     "output_type": "stream",
     "text": [
      "100%|██████████| 468/468 [00:23<00:00, 19.83it/s]\n"
     ]
    },
    {
     "name": "stdout",
     "output_type": "stream",
     "text": [
      "Average loss at epoch 8: 0.73894\n",
      "Start of Epoch 9:\n"
     ]
    },
    {
     "name": "stderr",
     "output_type": "stream",
     "text": [
      "100%|██████████| 468/468 [00:22<00:00, 21.21it/s]\n"
     ]
    },
    {
     "name": "stdout",
     "output_type": "stream",
     "text": [
      "Average loss at epoch 9: 0.75569\n",
      "Start of Epoch 10:\n"
     ]
    },
    {
     "name": "stderr",
     "output_type": "stream",
     "text": [
      "100%|██████████| 468/468 [00:20<00:00, 22.91it/s] \n"
     ]
    },
    {
     "name": "stdout",
     "output_type": "stream",
     "text": [
      "Average loss at epoch 10: 0.68410\n",
      "Start of Epoch 11:\n"
     ]
    },
    {
     "name": "stderr",
     "output_type": "stream",
     "text": [
      "100%|██████████| 468/468 [00:27<00:00, 16.87it/s]\n"
     ]
    },
    {
     "name": "stdout",
     "output_type": "stream",
     "text": [
      "Average loss at epoch 11: 0.74615\n",
      "Start of Epoch 12:\n"
     ]
    },
    {
     "name": "stderr",
     "output_type": "stream",
     "text": [
      "100%|██████████| 468/468 [00:29<00:00, 15.83it/s] \n"
     ]
    },
    {
     "name": "stdout",
     "output_type": "stream",
     "text": [
      "Average loss at epoch 12: 0.73913\n",
      "Start of Epoch 13:\n"
     ]
    },
    {
     "name": "stderr",
     "output_type": "stream",
     "text": [
      "100%|██████████| 468/468 [00:29<00:00, 15.88it/s] \n"
     ]
    },
    {
     "name": "stdout",
     "output_type": "stream",
     "text": [
      "Average loss at epoch 13: 0.75909\n",
      "Start of Epoch 14:\n"
     ]
    },
    {
     "name": "stderr",
     "output_type": "stream",
     "text": [
      "100%|██████████| 468/468 [00:33<00:00, 14.08it/s]\n"
     ]
    },
    {
     "name": "stdout",
     "output_type": "stream",
     "text": [
      "Average loss at epoch 14: 0.71386\n",
      "Start of Epoch 15:\n"
     ]
    },
    {
     "name": "stderr",
     "output_type": "stream",
     "text": [
      "100%|██████████| 468/468 [00:29<00:00, 15.92it/s]\n"
     ]
    },
    {
     "name": "stdout",
     "output_type": "stream",
     "text": [
      "Average loss at epoch 15: 0.68472\n",
      "Start of Epoch 16:\n"
     ]
    },
    {
     "name": "stderr",
     "output_type": "stream",
     "text": [
      "100%|██████████| 468/468 [00:28<00:00, 16.23it/s]\n"
     ]
    },
    {
     "name": "stdout",
     "output_type": "stream",
     "text": [
      "Average loss at epoch 16: 0.72137\n",
      "Start of Epoch 17:\n"
     ]
    },
    {
     "name": "stderr",
     "output_type": "stream",
     "text": [
      "100%|██████████| 468/468 [00:29<00:00, 15.61it/s]\n"
     ]
    },
    {
     "name": "stdout",
     "output_type": "stream",
     "text": [
      "Average loss at epoch 17: 0.76748\n",
      "Start of Epoch 18:\n"
     ]
    },
    {
     "name": "stderr",
     "output_type": "stream",
     "text": [
      "100%|██████████| 468/468 [00:25<00:00, 18.21it/s]\n"
     ]
    },
    {
     "name": "stdout",
     "output_type": "stream",
     "text": [
      "Average loss at epoch 18: 0.68819\n",
      "Start of Epoch 19:\n"
     ]
    },
    {
     "name": "stderr",
     "output_type": "stream",
     "text": [
      "100%|██████████| 468/468 [00:22<00:00, 21.06it/s] \n"
     ]
    },
    {
     "name": "stdout",
     "output_type": "stream",
     "text": [
      "Average loss at epoch 19: 0.67240\n",
      "Start of Epoch 20:\n"
     ]
    },
    {
     "name": "stderr",
     "output_type": "stream",
     "text": [
      "100%|██████████| 468/468 [00:21<00:00, 21.71it/s] \n"
     ]
    },
    {
     "name": "stdout",
     "output_type": "stream",
     "text": [
      "Average loss at epoch 20: 0.76282\n",
      "Training took  0h  9m 51s.\n"
     ]
    }
   ],
   "source": [
    "layers = [\n",
    "    Conv2DLayer((28, 28), (26, 26), (3, 3)),\n",
    "    FlattenLayer((26, 26), (26 * 26)),\n",
    "    LinearLayer((26 * 26), (100)),\n",
    "    LinearLayer((100), (10))\n",
    "]\n",
    "\n",
    "# Train model\n",
    "model = BaseModel(layers, optimizer = Adam(learning_rate=0.001))\n",
    "model.train(\n",
    "    [train_image, train_label_arr],\n",
    "    [test_image, test_label_arr],\n",
    "    CrossEntropy(),\n",
    "    batch_size = 128,\n",
    "    epochs = 20,\n",
    "    full_test = True\n",
    ")"
   ]
  },
  {
   "cell_type": "code",
   "execution_count": 6,
   "id": "e6ceba8f",
   "metadata": {},
   "outputs": [
    {
     "data": {
      "image/png": "[encoded data removed]",
      "text/plain": [
       "<Figure size 1200x300 with 4 Axes>"
      ]
     },
     "metadata": {},
     "output_type": "display_data"
    },
    {
     "name": "stdout",
     "output_type": "stream",
     "text": [
      "The model accuracy over the entire test set is 79.88%.\n"
     ]
    }
   ],
   "source": [
    "# Check if model can accurately label images\n",
    "rand_inds = np.random.choice(train_image.shape[0], 4, replace = False)\n",
    "model_guess = np.argmax(model.forward(train_image[rand_inds]), axis=1)\n",
    "actual_val = train_labels[rand_inds]\n",
    "draw_sample_image(train_image[rand_inds], actual_val, model_guess)\n",
    "\n",
    "# Find percent accuracy over entire test set\n",
    "test_vals = model.forward(test_image)\n",
    "test_accuracy = np.count_nonzero(np.argmax(test_vals, axis=1) == test_labels) / test_image.shape[0]\n",
    "print(f\"The model accuracy over the entire test set is {100 * test_accuracy:.2f}%.\")"
   ]
  },
  {
   "cell_type": "markdown",
   "id": "ea2b2293",
   "metadata": {},
   "source": [
    "As shown, the model has a ~80% accuracy, likely due to the similarities between the various clothing categories (e.g, T-shirt and shirt) and the low quality of the input images. However, for a ~300 KB model that trained in under 10 minutes, this result is reasonable."
   ]
  }
 ],
 "metadata": {
  "kernelspec": {
   "display_name": "Python 3",
   "language": "python",
   "name": "python3"
  },
  "language_info": {
   "codemirror_mode": {
    "name": "ipython",
    "version": 3
   },
   "file_extension": ".py",
   "mimetype": "text/x-python",
   "name": "python",
   "nbconvert_exporter": "python",
   "pygments_lexer": "ipython3",
   "version": "3.12.11"
  }
 },
 "nbformat": 4,
 "nbformat_minor": 5
}
